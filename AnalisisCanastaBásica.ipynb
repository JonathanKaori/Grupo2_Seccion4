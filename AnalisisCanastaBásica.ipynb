{
 "cells": [
  {
   "cell_type": "code",
   "execution_count": null,
   "metadata": {},
   "outputs": [],
   "source": [
    "import pandas as pd\n",
    "import seaborn as sns\n",
    "import matplotlib.pyplot as plt\n",
    "DatosBitcoin = pd.read_csv(\"bitcoin.csv\")\n",
    "DatosValorUSD = pd.read_csv(\"USD-EUR-2105-2024.csv\")\n",
    "DatosBancoCentral = pd.read_csv(\"InfoBancoCentral.csv\",skiprows=4)\n",
    "DatosBancoCentral = DatosBancoCentral.drop(DatosBancoCentral.columns[4:59], axis=1)\n",
    "DatosBancoCentral = DatosBancoCentral.iloc[4:27]\n",
    "\n",
    "DatosBitcoin['date'] = pd.to_datetime(DatosBitcoin['date'])\n",
    "DatosValorUSD['Month_Year'] = pd.to_datetime(DatosValorUSD['Month_Year'], format='%m-%Y')\n",
    "\n",
    "plt.figure(figsize=(14, 6))\n",
    "sns.lineplot(data=DatosBitcoin, x='date', y='price', color='blue')\n",
    "plt.title('Tendencia del Precio del Bitcoin (2015-2024)')\n",
    "plt.xlabel('Fecha')\n",
    "plt.ylabel('Precio del Bitcoin')\n",
    "plt.xticks(rotation=45)\n",
    "plt.tight_layout()\n",
    "plt.show()\n",
    "\n",
    "plt.figure(figsize=(14, 6))\n",
    "sns.lineplot(data=DatosValorUSD, x='Month_Year', y='USD_EUR_Exchange_Rate', color='green')\n",
    "plt.title('Tendencia del Precio del Dólar (2015-2024)')\n",
    "plt.xlabel('Fecha')\n",
    "plt.ylabel('Tipo de Cambio USD/EUR')\n",
    "plt.xticks(rotation=45)\n",
    "plt.tight_layout()\n",
    "plt.show()"
   ]
  }
 ],
 "metadata": {
  "language_info": {
   "name": "python"
  }
 },
 "nbformat": 4,
 "nbformat_minor": 2
}
